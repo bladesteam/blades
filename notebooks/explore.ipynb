{
 "cells": [
  {
   "cell_type": "code",
   "execution_count": 8,
   "id": "ea5d559a",
   "metadata": {},
   "outputs": [],
   "source": [
    "import os\n",
    "import sys\n",
    "import torch\n",
    "from torchsummary import summary\n",
    "module_path = os.path.abspath(os.path.join('..'))\n",
    "if module_path not in sys.path:\n",
    "    sys.path.append(module_path)\n",
    "    \n",
    "from codes.cctnets import cct_6_3x1_32, cct_7_3x1_32, cct_2_3x2_32\n",
    "\n",
    "device = torch.device('cuda' if torch.cuda.is_available() else 'cpu')"
   ]
  },
  {
   "cell_type": "code",
   "execution_count": 9,
   "id": "17765541",
   "metadata": {},
   "outputs": [],
   "source": [
    "model = cct_2_3x2_32().to(device)"
   ]
  },
  {
   "cell_type": "code",
   "execution_count": 10,
   "id": "05ca682c",
   "metadata": {},
   "outputs": [
    {
     "name": "stdout",
     "output_type": "stream",
     "text": [
      "----------------------------------------------------------------\n",
      "        Layer (type)               Output Shape         Param #\n",
      "================================================================\n",
      "            Conv2d-1           [-1, 64, 32, 32]           1,728\n",
      "              ReLU-2           [-1, 64, 32, 32]               0\n",
      "         MaxPool2d-3           [-1, 64, 16, 16]               0\n",
      "            Conv2d-4          [-1, 128, 16, 16]          73,728\n",
      "              ReLU-5          [-1, 128, 16, 16]               0\n",
      "         MaxPool2d-6            [-1, 128, 8, 8]               0\n",
      "           Flatten-7              [-1, 128, 64]               0\n",
      "         Tokenizer-8              [-1, 64, 128]               0\n",
      "           Dropout-9              [-1, 64, 128]               0\n",
      "        LayerNorm-10              [-1, 64, 128]             256\n",
      "           Linear-11              [-1, 64, 384]          49,152\n",
      "          Dropout-12            [-1, 2, 64, 64]               0\n",
      "           Linear-13              [-1, 64, 128]          16,512\n",
      "          Dropout-14              [-1, 64, 128]               0\n",
      "        Attention-15              [-1, 64, 128]               0\n",
      "         Identity-16              [-1, 64, 128]               0\n",
      "        LayerNorm-17              [-1, 64, 128]             256\n",
      "           Linear-18              [-1, 64, 128]          16,512\n",
      "          Dropout-19              [-1, 64, 128]               0\n",
      "           Linear-20              [-1, 64, 128]          16,512\n",
      "          Dropout-21              [-1, 64, 128]               0\n",
      "         Identity-22              [-1, 64, 128]               0\n",
      "TransformerEncoderLayer-23              [-1, 64, 128]               0\n",
      "        LayerNorm-24              [-1, 64, 128]             256\n",
      "           Linear-25              [-1, 64, 384]          49,152\n",
      "          Dropout-26            [-1, 2, 64, 64]               0\n",
      "           Linear-27              [-1, 64, 128]          16,512\n",
      "          Dropout-28              [-1, 64, 128]               0\n",
      "        Attention-29              [-1, 64, 128]               0\n",
      "         DropPath-30              [-1, 64, 128]               0\n",
      "        LayerNorm-31              [-1, 64, 128]             256\n",
      "           Linear-32              [-1, 64, 128]          16,512\n",
      "          Dropout-33              [-1, 64, 128]               0\n",
      "           Linear-34              [-1, 64, 128]          16,512\n",
      "          Dropout-35              [-1, 64, 128]               0\n",
      "         DropPath-36              [-1, 64, 128]               0\n",
      "TransformerEncoderLayer-37              [-1, 64, 128]               0\n",
      "        LayerNorm-38              [-1, 64, 128]             256\n",
      "           Linear-39                [-1, 64, 1]             129\n",
      "           Linear-40                   [-1, 10]           1,290\n",
      "TransformerClassifier-41                   [-1, 10]               0\n",
      "================================================================\n",
      "Total params: 275,531\n",
      "Trainable params: 275,531\n",
      "Non-trainable params: 0\n",
      "----------------------------------------------------------------\n",
      "Input size (MB): 0.01\n",
      "Forward/backward pass size (MB): 3.94\n",
      "Params size (MB): 1.05\n",
      "Estimated Total Size (MB): 5.00\n",
      "----------------------------------------------------------------\n"
     ]
    }
   ],
   "source": [
    "summary(model, input_size=(3, 32, 32))"
   ]
  },
  {
   "cell_type": "code",
   "execution_count": null,
   "id": "865ce3d0",
   "metadata": {},
   "outputs": [],
   "source": []
  }
 ],
 "metadata": {
  "kernelspec": {
   "display_name": "Python 3 (ipykernel)",
   "language": "python",
   "name": "python3"
  },
  "language_info": {
   "codemirror_mode": {
    "name": "ipython",
    "version": 3
   },
   "file_extension": ".py",
   "mimetype": "text/x-python",
   "name": "python",
   "nbconvert_exporter": "python",
   "pygments_lexer": "ipython3",
   "version": "3.8.5"
  }
 },
 "nbformat": 4,
 "nbformat_minor": 5
}
