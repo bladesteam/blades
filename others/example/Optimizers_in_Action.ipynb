{
 "cells": [
  {
   "cell_type": "markdown",
   "metadata": {
    "colab_type": "text",
    "id": "RxplubDqXjDh"
   },
   "source": [
    "# Optimizers in Action\n",
    "Exploring Optimizers one at a time."
   ]
  },
  {
   "cell_type": "code",
   "execution_count": 1,
   "metadata": {
    "colab": {
     "base_uri": "https://localhost:8080/",
     "height": 50
    },
    "colab_type": "code",
    "id": "79Z98RGPuEXN",
    "outputId": "a804ab0b-78c8-4472-b7b9-1a4d4ede37bb"
   },
   "outputs": [],
   "source": [
    "%load_ext autoreload\n",
    "%autoreload 2\n",
    "\n",
    "%matplotlib inline"
   ]
  },
  {
   "cell_type": "code",
   "execution_count": 2,
   "metadata": {
    "colab": {},
    "colab_type": "code",
    "id": "40d4h7VnXhDl"
   },
   "outputs": [],
   "source": [
    "import torch\n",
    "import numpy as np\n",
    "from functools import partial\n",
    "# plotting\n",
    "import matplotlib.pyplot as plt\n",
    "# 3D plotting\n",
    "from mpl_toolkits import mplot3d\n",
    "# animation\n",
    "from matplotlib import animation\n",
    "from matplotlib.gridspec import GridSpec\n",
    "plt.rc('animation', html='html5')"
   ]
  },
  {
   "cell_type": "code",
   "execution_count": 3,
   "metadata": {
    "colab": {},
    "colab_type": "code",
    "id": "UkxtqTHvx8cq"
   },
   "outputs": [],
   "source": [
    "import pdb"
   ]
  },
  {
   "cell_type": "markdown",
   "metadata": {
    "colab_type": "text",
    "id": "O5d9Ss6396B3"
   },
   "source": [
    "## Linear Regression\n",
    "A linear regression problem is very easy to plot the parameters as well as the loss function"
   ]
  },
  {
   "cell_type": "markdown",
   "metadata": {
    "colab_type": "text",
    "id": "LI4RiYIvUyOx"
   },
   "source": [
    "### Data"
   ]
  },
  {
   "cell_type": "code",
   "execution_count": 4,
   "metadata": {
    "colab": {},
    "colab_type": "code",
    "id": "nJQMc7El7orw"
   },
   "outputs": [],
   "source": [
    "size = 100"
   ]
  },
  {
   "cell_type": "code",
   "execution_count": 5,
   "metadata": {
    "colab": {
     "base_uri": "https://localhost:8080/",
     "height": 67
    },
    "colab_type": "code",
    "id": "MkZXXAt77wTO",
    "outputId": "3cac8a26-5036-40f7-a156-ef009fa44f46"
   },
   "outputs": [
    {
     "data": {
      "text/plain": [
       "tensor([[-0.5250,  1.0000],\n",
       "        [ 0.5945,  1.0000],\n",
       "        [ 0.1397,  1.0000]])"
      ]
     },
     "execution_count": 5,
     "metadata": {},
     "output_type": "execute_result"
    }
   ],
   "source": [
    "X = torch.ones(size, 2)\n",
    "X[:, 0].uniform_(-1., 1)\n",
    "X[:3]"
   ]
  },
  {
   "cell_type": "code",
   "execution_count": 6,
   "metadata": {
    "colab": {},
    "colab_type": "code",
    "id": "Nxm-SZBr7yT8"
   },
   "outputs": [],
   "source": [
    "W     = torch.tensor([5., 3])  # weight and bias\n",
    "error = torch.rand(size)        # some random error per yi"
   ]
  },
  {
   "cell_type": "code",
   "execution_count": 7,
   "metadata": {
    "colab": {},
    "colab_type": "code",
    "id": "2yG9UIVq8vuP"
   },
   "outputs": [],
   "source": [
    "y_hat = X @ W\n",
    "y = y_hat + error"
   ]
  },
  {
   "cell_type": "code",
   "execution_count": 8,
   "metadata": {
    "colab": {
     "base_uri": "https://localhost:8080/",
     "height": 286
    },
    "colab_type": "code",
    "id": "QOkHpbDy82HG",
    "outputId": "afe6fb5b-7ce0-4f36-86a3-2fbdff7f8764"
   },
   "outputs": [
    {
     "data": {
      "text/plain": [
       "<matplotlib.legend.Legend at 0x7fb2f9a32a00>"
      ]
     },
     "execution_count": 8,
     "metadata": {},
     "output_type": "execute_result"
    },
    {
     "data": {
      "image/png": "[encoded data removed]",
      "text/plain": [
       "<Figure size 432x288 with 1 Axes>"
      ]
     },
     "metadata": {
      "needs_background": "light"
     },
     "output_type": "display_data"
    }
   ],
   "source": [
    "plt.scatter(X[:,0], y, label='y');\n",
    "plt.scatter(X[:,0], y_hat, label='y_hat');\n",
    "plt.legend()"
   ]
  },
  {
   "cell_type": "markdown",
   "metadata": {
    "colab_type": "text",
    "id": "l_j5Np-l-A2r"
   },
   "source": [
    "### Loss function"
   ]
  },
  {
   "cell_type": "markdown",
   "metadata": {
    "colab_type": "text",
    "id": "hNZVBVTFAYIG"
   },
   "source": [
    "Mean Square Error"
   ]
  },
  {
   "cell_type": "code",
   "execution_count": 9,
   "metadata": {
    "colab": {},
    "colab_type": "code",
    "id": "TpeWodnz9D6u"
   },
   "outputs": [],
   "source": [
    "def mse(y, y_hat): return ((y-y_hat)**2).mean()"
   ]
  },
  {
   "cell_type": "markdown",
   "metadata": {
    "colab_type": "text",
    "id": "a0KArpNp-HQL"
   },
   "source": [
    "Mean Square Root Error"
   ]
  },
  {
   "cell_type": "code",
   "execution_count": 10,
   "metadata": {
    "colab": {},
    "colab_type": "code",
    "id": "kzknmKBb-GKX"
   },
   "outputs": [],
   "source": [
    "def msre(y, y_hat): return ((y-y_hat)**2).mean().sqrt()"
   ]
  },
  {
   "cell_type": "markdown",
   "metadata": {
    "colab_type": "text",
    "id": "MpceseEDAa_b"
   },
   "source": [
    "Mean Absolute Error"
   ]
  },
  {
   "cell_type": "code",
   "execution_count": 11,
   "metadata": {
    "colab": {},
    "colab_type": "code",
    "id": "XG2Nk_dWAQcb"
   },
   "outputs": [],
   "source": [
    "def mae(y, y_hat): return ((y-y_hat).abs()).mean()"
   ]
  },
  {
   "cell_type": "code",
   "execution_count": 12,
   "metadata": {
    "colab": {
     "base_uri": "https://localhost:8080/",
     "height": 34
    },
    "colab_type": "code",
    "id": "kRnTUA5iAHs6",
    "outputId": "6c30c938-80cf-429b-e937-e26a017982bf"
   },
   "outputs": [
    {
     "data": {
      "text/plain": [
       "(tensor(0.3220), tensor(0.4756))"
      ]
     },
     "execution_count": 12,
     "metadata": {},
     "output_type": "execute_result"
    }
   ],
   "source": [
    "mse(y, X @ W), mae(y, X @ W)"
   ]
  },
  {
   "cell_type": "markdown",
   "metadata": {
    "colab_type": "text",
    "id": "ovZrl2QbAE5R"
   },
   "source": [
    "#### Visualisation\n",
    "Let's visualize the loss function landscape as a function of the parameters (i.e. weight and bias)"
   ]
  },
  {
   "cell_type": "code",
   "execution_count": 13,
   "metadata": {
    "colab": {},
    "colab_type": "code",
    "id": "07URD_JP_AB4"
   },
   "outputs": [],
   "source": [
    "@np.vectorize\n",
    "def loss_func(w1, w2, loss=mse):\n",
    "    W = torch.Tensor([w1, w2])\n",
    "    y_hat = X @ W\n",
    "    return loss(y_hat, y)"
   ]
  },
  {
   "cell_type": "markdown",
   "metadata": {
    "colab_type": "text",
    "id": "uiEt-1KvE-F1"
   },
   "source": [
    "A helper function to generate samples for the weights"
   ]
  },
  {
   "cell_type": "code",
   "execution_count": 14,
   "metadata": {
    "colab": {},
    "colab_type": "code",
    "id": "Pg90905gCg1z"
   },
   "outputs": [],
   "source": [
    "def grid_samples(offset=20, size=100):\n",
    "    range1 = np.linspace(-offset, offset, size)\n",
    "    range2 = np.linspace(-offset, offset, size)\n",
    "    return np.meshgrid(range1, range2)"
   ]
  },
  {
   "cell_type": "code",
   "execution_count": 15,
   "metadata": {
    "colab": {
     "base_uri": "https://localhost:8080/",
     "height": 34
    },
    "colab_type": "code",
    "id": "msoYhTrqDGWc",
    "outputId": "d5fe4610-c39d-4492-fb5b-c5a27cbf5251"
   },
   "outputs": [
    {
     "name": "stdout",
     "output_type": "stream",
     "text": [
      "Samples for wights have a shape of [(100, 100), (100, 100)]\n"
     ]
    }
   ],
   "source": [
    "weights = grid_samples(); print(f'Samples for wights have a shape of {[w.shape for w in weights]}')"
   ]
  },
  {
   "cell_type": "code",
   "execution_count": 16,
   "metadata": {
    "colab": {},
    "colab_type": "code",
    "id": "jZs7CBy1-1I7"
   },
   "outputs": [],
   "source": [
    "def plot_loss_funcs(weights, samples, fcts, titles, view=(20, 50)):\n",
    "    num_fcts = len(fcts)\n",
    "    fig = plt.figure(figsize=(7 * num_fcts,7))\n",
    "    for i in range(num_fcts):\n",
    "        loss = loss_func(*weights, loss=fcts[i])\n",
    "        ax = fig.add_subplot(1, num_fcts, i+1, projection='3d')\n",
    "        ax.plot_surface(*samples, loss, cmap='viridis', alpha=0.8)\n",
    "        ax.set_xlabel('w0'); ax.set_ylabel('w1'); ax.set_zlabel('Loss')\n",
    "        ax.set_title(titles[i])\n",
    "        ax.view_init(*view)\n"
   ]
  },
  {
   "cell_type": "code",
   "execution_count": 17,
   "metadata": {
    "colab": {
     "base_uri": "https://localhost:8080/",
     "height": 411
    },
    "colab_type": "code",
    "id": "icN2tBQm_U_W",
    "outputId": "2ca631ab-f11c-4d8a-e705-4bdd2cb89209"
   },
   "outputs": [
    {
     "ename": "NameError",
     "evalue": "name 'samples' is not defined",
     "output_type": "error",
     "traceback": [
      "\u001b[0;31m---------------------------------------------------------------------------\u001b[0m",
      "\u001b[0;31mNameError\u001b[0m                                 Traceback (most recent call last)",
      "Input \u001b[0;32mIn [17]\u001b[0m, in \u001b[0;36m<cell line: 1>\u001b[0;34m()\u001b[0m\n\u001b[0;32m----> 1\u001b[0m plot_loss_funcs(weights, \u001b[43msamples\u001b[49m, fcts\u001b[38;5;241m=\u001b[39m[mse, msre, mae], titles\u001b[38;5;241m=\u001b[39m[\u001b[38;5;124m'\u001b[39m\u001b[38;5;124mMean Square Error loss\u001b[39m\u001b[38;5;124m'\u001b[39m, \u001b[38;5;124m'\u001b[39m\u001b[38;5;124mMean Square Root Error loss\u001b[39m\u001b[38;5;124m'\u001b[39m, \u001b[38;5;124m'\u001b[39m\u001b[38;5;124mMean Absolute Error loss\u001b[39m\u001b[38;5;124m'\u001b[39m])\n",
      "\u001b[0;31mNameError\u001b[0m: name 'samples' is not defined"
     ]
    }
   ],
   "source": [
    "plot_loss_funcs(weights, samples, fcts=[mse, msre, mae], titles=['Mean Square Error loss', 'Mean Square Root Error loss', 'Mean Absolute Error loss'])"
   ]
  },
  {
   "cell_type": "markdown",
   "metadata": {
    "colab_type": "text",
    "id": "rmWJO1dBVBWc"
   },
   "source": [
    "### Optimizers"
   ]
  },
  {
   "cell_type": "markdown",
   "metadata": {
    "colab_type": "text",
    "id": "dq1TCtpM8Vya"
   },
   "source": [
    "A simple optimizer that keep tracks of parameters, hyper parameters, and a collection of optimization steps which are supposed to contains the logic for updating parameters."
   ]
  },
  {
   "cell_type": "code",
   "execution_count": null,
   "metadata": {
    "colab": {},
    "colab_type": "code",
    "id": "bYC3DC_3knyi"
   },
   "outputs": [],
   "source": [
    "class Optimizer():\n",
    "    def __init__(self, params, steppers, **defaults):\n",
    "        # might be a generator\n",
    "        self.param_groups = list(params)\n",
    "        # ensure params is a list of lists\n",
    "        if not isinstance(self.param_groups[0], list): self.param_groups = [self.param_groups]\n",
    "        self.hypers = [{**defaults} for p in self.param_groups]\n",
    "        self.steppers = steppers\n",
    "        \n",
    "    def grad_params(self):\n",
    "        for pg,hyper in zip(self.param_groups,self.hypers):\n",
    "            for p in pg:\n",
    "                if p.grad is None: continue\n",
    "                yield (p,hyper)\n",
    "\n",
    "    def zero_grad(self):\n",
    "        for p, hyperp in self.grad_params():\n",
    "            p.grad.detach_()\n",
    "            p.grad.zero_()\n",
    "            \n",
    "    def step(self):\n",
    "        for p, hyperp in self.grad_params():\n",
    "            for step in self.steppers: p = step(p, **hyperp)"
   ]
  },
  {
   "cell_type": "markdown",
   "metadata": {
    "colab_type": "text",
    "id": "pdVIRFE18SXs"
   },
   "source": [
    "An optimizer that keep tracks of parameters and their statistics"
   ]
  },
  {
   "cell_type": "code",
   "execution_count": null,
   "metadata": {
    "colab": {},
    "colab_type": "code",
    "id": "u2DoF0CA8N0_"
   },
   "outputs": [],
   "source": [
    "class StatefulOptimizer(Optimizer):\n",
    "    def __init__(self, parms, steppers, stats=None, **defaults):\n",
    "        super().__init__(parms, steppers, **defaults)\n",
    "        self.stats = stats\n",
    "        self.state = {}\n",
    "        \n",
    "    def step(self):\n",
    "        for p, hyperp in self.grad_params():\n",
    "            if p not in self.state:\n",
    "                self.state[p] = {}\n",
    "                for s in self.stats:\n",
    "                    for k,v in s.init_state(p).items():\n",
    "                        self.state[p][k] = v\n",
    "            state = self.state[p]\n",
    "            for stat in self.stats: state = stat.update(p, state, **hyperp)\n",
    "            for step in self.steppers: p = step(p, **state, **hyperp)\n",
    "            self.state[p] = state"
   ]
  },
  {
   "cell_type": "markdown",
   "metadata": {
    "colab_type": "text",
    "id": "PGgyNbkSC-x9"
   },
   "source": [
    "A generic class for calculating statistics"
   ]
  },
  {
   "cell_type": "code",
   "execution_count": null,
   "metadata": {
    "colab": {},
    "colab_type": "code",
    "id": "9PCI8Hb5Cmu_"
   },
   "outputs": [],
   "source": [
    "class Stat():\n",
    "    def init_state(self, p): raise NotImplementedError\n",
    "    def update(self, p, state, **kwargs): raise NotImplementedError"
   ]
  },
  {
   "cell_type": "markdown",
   "metadata": {
    "colab_type": "text",
    "id": "2xpk-9o8WQyU"
   },
   "source": [
    "Moving Average of Gradadients"
   ]
  },
  {
   "cell_type": "code",
   "execution_count": null,
   "metadata": {
    "colab": {},
    "colab_type": "code",
    "id": "vplCFN9sVD99"
   },
   "outputs": [],
   "source": [
    "class AverageGrad(Stat):\n",
    "    def __init__(self, dampening=False):\n",
    "        self.dampening = dampening\n",
    "    def init_state(self, p):\n",
    "        return {'grad_avg': torch.zeros_like(p.grad.data)}\n",
    "    def update(self, p, state, mom, **kwargs):\n",
    "        state['mom_damp'] = 1-mom if self.dampening else 1.\n",
    "        state['grad_avg'].mul_(mom).add_(state['mom_damp'], p.grad.data)\n",
    "        return state"
   ]
  },
  {
   "cell_type": "markdown",
   "metadata": {
    "colab_type": "text",
    "id": "ZXccPBMMWeOt"
   },
   "source": [
    "Moving Average of Gradients Squared"
   ]
  },
  {
   "cell_type": "code",
   "execution_count": null,
   "metadata": {
    "colab": {},
    "colab_type": "code",
    "id": "RsMq38EYWoU4"
   },
   "outputs": [],
   "source": [
    "class AverageSqrGrad(Stat):\n",
    "    def __init__(self, dampening=False):\n",
    "        self.dampening = dampening\n",
    "    def init_state(self, p):\n",
    "        return {'sqr_avg': torch.zeros_like(p.grad.data)}\n",
    "    def update(self, p, state, sqr_mom, **kwargs):\n",
    "        state['sqr_damp'] = 1-sqr_mom if self.dampening else 1.\n",
    "        state['sqr_avg'].mul_(sqr_mom).addcmul_(state['sqr_damp'], p.grad.data, p.grad.data)\n",
    "        return state"
   ]
  },
  {
   "cell_type": "markdown",
   "metadata": {
    "colab_type": "text",
    "id": "wsl_GUttXk-5"
   },
   "source": [
    "Number of the steps so far"
   ]
  },
  {
   "cell_type": "code",
   "execution_count": null,
   "metadata": {
    "colab": {},
    "colab_type": "code",
    "id": "gMIRPwNeXknh"
   },
   "outputs": [],
   "source": [
    "class StepCount(Stat):\n",
    "    def init_state(self, p):\n",
    "        return {'step': 0}\n",
    "    def update(self, p, state, **kwargs):\n",
    "        state['step'] += 1\n",
    "        return state"
   ]
  },
  {
   "cell_type": "markdown",
   "metadata": {
    "colab_type": "text",
    "id": "1dfQf4mD0sWJ"
   },
   "source": [
    "#### Gradient Descent"
   ]
  },
  {
   "cell_type": "code",
   "execution_count": null,
   "metadata": {
    "colab": {},
    "colab_type": "code",
    "id": "GsXoVUi-tYmH"
   },
   "outputs": [],
   "source": [
    "def sgd_step(p, lr, **kwargs):\n",
    "    p.data.add_(-lr, p.grad.data)\n",
    "    return p"
   ]
  },
  {
   "cell_type": "markdown",
   "metadata": {
    "colab_type": "text",
    "id": "a1WenT8i2jaM"
   },
   "source": [
    "#### Weight Decay"
   ]
  },
  {
   "cell_type": "markdown",
   "metadata": {
    "colab_type": "text",
    "id": "lcAd-aZp23Ro"
   },
   "source": [
    "Weight decay is subtracting $lr*wd*weight$ from the weights."
   ]
  },
  {
   "cell_type": "code",
   "execution_count": null,
   "metadata": {
    "colab": {},
    "colab_type": "code",
    "id": "0mqmxrne2hwX"
   },
   "outputs": [],
   "source": [
    "def weight_decay(p, lr, wd, **kwargs):\n",
    "    p.data.mul_(1 - lr*wd)\n",
    "    return p"
   ]
  },
  {
   "cell_type": "markdown",
   "metadata": {
    "colab_type": "text",
    "id": "gruR0w5z2t2v"
   },
   "source": [
    "L2 regularization is adding $wd*weight$ to the gradients."
   ]
  },
  {
   "cell_type": "code",
   "execution_count": null,
   "metadata": {
    "colab": {},
    "colab_type": "code",
    "id": "HRJfEKSt28tC"
   },
   "outputs": [],
   "source": [
    "def l2_reg(p, lr, wd, **kwargs):\n",
    "    p.grad.data.add_(wd, p.data)\n",
    "    return p"
   ]
  },
  {
   "cell_type": "markdown",
   "metadata": {
    "colab_type": "text",
    "id": "zSXzWb7g5KO1"
   },
   "source": [
    "#### Momentum"
   ]
  },
  {
   "cell_type": "code",
   "execution_count": null,
   "metadata": {
    "colab": {},
    "colab_type": "code",
    "id": "PyoDs_Vq5k9_"
   },
   "outputs": [],
   "source": [
    "def momentum_step(p, lr, grad_avg, **kwargs):\n",
    "    p.data.add_(-lr, grad_avg)\n",
    "    return p"
   ]
  },
  {
   "cell_type": "markdown",
   "metadata": {
    "colab_type": "text",
    "id": "jNw3PJj8DGpP"
   },
   "source": [
    "A specialization for **Stat** class responsible for calculating averages\n",
    "##### Regular Average"
   ]
  },
  {
   "cell_type": "code",
   "execution_count": null,
   "metadata": {
    "colab": {},
    "colab_type": "code",
    "id": "j4scOE4nDF6r"
   },
   "outputs": [],
   "source": [
    "class AverageGrad1(AverageGrad):\n",
    "    def update(self, p, state, mom, **kwargs):\n",
    "        state['grad_avg'].mul_(mom).add_(p.grad.data)\n",
    "        return state"
   ]
  },
  {
   "cell_type": "markdown",
   "metadata": {
    "colab_type": "text",
    "id": "cWD16h9HQMAc"
   },
   "source": [
    "##### Exponentially Weighted Moving Average"
   ]
  },
  {
   "cell_type": "code",
   "execution_count": null,
   "metadata": {
    "colab": {},
    "colab_type": "code",
    "id": "FoRqMvIwQK5m"
   },
   "outputs": [],
   "source": [
    "class AverageGrad2(AverageGrad):\n",
    "    def update(self, p, state, mom, **kwargs):\n",
    "        state['grad_avg'].mul_(mom).add_(1-mom, p.grad.data)\n",
    "        return state"
   ]
  },
  {
   "cell_type": "markdown",
   "metadata": {
    "colab_type": "text",
    "id": "nAHzfyiDQezg"
   },
   "source": [
    "##### Debiased Exponentially Weighted Moving Average"
   ]
  },
  {
   "cell_type": "code",
   "execution_count": null,
   "metadata": {
    "colab": {},
    "colab_type": "code",
    "id": "Cx-qezbFQeT3"
   },
   "outputs": [],
   "source": [
    "class AverageGrad3(AverageGrad):\n",
    "    def update(self, p, state, mom, **kwargs):\n",
    "        ith = state['step'] if 'step' in state else None\n",
    "        state['grad_avg'].mul_(mom).add_(1-mom, p.grad.data).mul_(1 / (1-mom**(ith+1)))\n",
    "        return state"
   ]
  },
  {
   "cell_type": "markdown",
   "metadata": {
    "colab_type": "text",
    "id": "M3Vw4xC3X8vc"
   },
   "source": [
    "#### ADAM"
   ]
  },
  {
   "cell_type": "code",
   "execution_count": null,
   "metadata": {
    "colab": {},
    "colab_type": "code",
    "id": "MFyINISAX-to"
   },
   "outputs": [],
   "source": [
    "def debias(mom, damp, step): return damp * (1 - mom**step) / (1-mom)"
   ]
  },
  {
   "cell_type": "code",
   "execution_count": null,
   "metadata": {
    "colab": {},
    "colab_type": "code",
    "id": "j9CknLVTYIlb"
   },
   "outputs": [],
   "source": [
    "def adam_step(p, lr, mom, mom_damp, step, sqr_mom, sqr_damp, grad_avg, sqr_avg, eps, **kwargs):\n",
    "    debias1 = debias(mom, mom_damp, step)\n",
    "    debias2 = debias(sqr_mom, sqr_damp, step)\n",
    "    p.data.addcdiv_(-lr / debias1, grad_avg, (sqr_avg/debias2).sqrt() + eps)\n",
    "    return p"
   ]
  },
  {
   "cell_type": "markdown",
   "metadata": {
    "colab_type": "text",
    "id": "FVckDZjSbAQ5"
   },
   "source": [
    "#### LAMB"
   ]
  },
  {
   "cell_type": "code",
   "execution_count": null,
   "metadata": {
    "colab": {},
    "colab_type": "code",
    "id": "-Fex6HG7a_12"
   },
   "outputs": [],
   "source": [
    "def lamb_step(p, lr, mom, mom_damp, step, sqr_mom, sqr_damp, grad_avg, sqr_avg, eps, wd, **kwargs):\n",
    "    debias1 = debias(mom, mom_damp, step)\n",
    "    debias2 = debias(sqr_mom, sqr_damp, step)\n",
    "    r1 = p.data.pow(2).mean().sqrt()\n",
    "    step = (grad_avg/debias1) / ((sqr_avg/debias2).sqrt()+eps) + wd*p.data\n",
    "    r2 = step.pow(2).mean().sqrt()\n",
    "    p.data.add_(-lr * min(r1/r2, 10), step)\n",
    "    return p"
   ]
  },
  {
   "cell_type": "markdown",
   "metadata": {
    "colab_type": "text",
    "id": "GpgmwQHp0yKF"
   },
   "source": [
    "### Training loop"
   ]
  },
  {
   "cell_type": "markdown",
   "metadata": {
    "colab_type": "text",
    "id": "MUk_DgML1cXY"
   },
   "source": [
    "A plain old training loop, eventually refactor this into (begin/end epoch), add some param scheduling"
   ]
  },
  {
   "cell_type": "code",
   "execution_count": null,
   "metadata": {
    "colab": {},
    "colab_type": "code",
    "id": "41dNN2B9K21P"
   },
   "outputs": [],
   "source": [
    "def fit(X, y, epochs=10, w0=[-1, 0], loss_func=mse, opt_func=None):\n",
    "    loss_history, weights_hisotry = [], []\n",
    "    W = torch.tensor(w0, requires_grad=True)\n",
    "    opt = opt_func([W])\n",
    "    for t in range(epochs):\n",
    "        # forward\n",
    "        y_hat = X @ W\n",
    "        loss = loss_func(y, y_hat)\n",
    "        weights = W.data.clone()\n",
    "        # backward\n",
    "        loss.backward()\n",
    "        with torch.no_grad():\n",
    "            opt.step()\n",
    "            opt.zero_grad()\n",
    "        # record\n",
    "        loss_history.append(loss.item())\n",
    "        weights_hisotry.append(weights)\n",
    "    weights_hisotry = torch.stack(weights_hisotry)\n",
    "    return weights_hisotry, loss_history"
   ]
  },
  {
   "cell_type": "code",
   "execution_count": null,
   "metadata": {
    "colab": {},
    "colab_type": "code",
    "id": "2d7tzjgnS09E"
   },
   "outputs": [],
   "source": [
    "epochs = 100\n",
    "\n",
    "# hyper parameters\n",
    "hyperparams = (dict([('lr', 0.1), ('wd', 0.1), ('mom', 0.9), ('sqr_mom', 0.99), ('eps', 1e-6)]))\n",
    "\n",
    "# initial parameters (weights)\n",
    "initial_weights = [-10., -20.]"
   ]
  },
  {
   "cell_type": "code",
   "execution_count": null,
   "metadata": {
    "colab": {},
    "colab_type": "code",
    "id": "M8QhzzbfVMQC"
   },
   "outputs": [],
   "source": [
    "# SGD\n",
    "sgd_opt = partial(Optimizer, steppers=[sgd_step], **(hyperparams))\n",
    "wgts1, losses1 = fit(X, y, epochs=epochs, w0=initial_weights, loss_func=msre, opt_func=sgd_opt)\n",
    "\n",
    "# SGD + Weight Deay\n",
    "sgd_wd_opt = partial(Optimizer, steppers=[weight_decay, sgd_step], **(hyperparams))\n",
    "wgts2, losses2 = fit(X, y, epochs=epochs, w0=initial_weights, loss_func=msre, opt_func=sgd_wd_opt)\n",
    "\n",
    "# SGD + Weight Deay + Momentum\n",
    "sgd_mom_opt_1 = partial(StatefulOptimizer, steppers=[momentum_step,weight_decay], stats=[AverageGrad1()], **(hyperparams))\n",
    "wgts3, losses3 = fit(X, y, epochs=epochs, w0=initial_weights, loss_func=msre, opt_func=sgd_mom_opt_1)\n",
    "\n",
    "# SGD + Weight Deay + Momentum (EWMA)\n",
    "sgd_mom_opt_2 = partial(StatefulOptimizer, steppers=[momentum_step,weight_decay], stats=[AverageGrad2()], **(hyperparams))\n",
    "wgts4, losses4 = fit(X, y, epochs=epochs, w0=initial_weights, loss_func=msre, opt_func=sgd_mom_opt_2)\n",
    "\n",
    "# SGD + Weight Deay + Momentum (Debiased EWMA)\n",
    "sgd_mom_opt_3 = partial(StatefulOptimizer, steppers=[momentum_step,weight_decay], stats=[AverageGrad3(), StepCount()], **(hyperparams))\n",
    "wgts5, losses5 = fit(X, y, epochs=epochs, w0=initial_weights, loss_func=msre, opt_func=sgd_mom_opt_3)\n",
    "\n",
    "# ADAM\n",
    "adam_opt = partial(StatefulOptimizer, steppers=[adam_step, weight_decay], stats=[AverageGrad(dampening=True), AverageSqrGrad(), StepCount()], **(hyperparams))\n",
    "wgts6, losses6 = fit(X, y, epochs=epochs, w0=initial_weights, loss_func=msre, opt_func=adam_opt)\n",
    "\n",
    "# LAMB\n",
    "lamb_opt = partial(StatefulOptimizer, steppers=[lamb_step], stats=[AverageGrad(dampening=True), AverageSqrGrad(), StepCount()], **(hyperparams))\n",
    "wgts7, losses7 = fit(X, y, epochs=epochs, w0=initial_weights, loss_func=msre, opt_func=adam_opt)"
   ]
  },
  {
   "cell_type": "code",
   "execution_count": null,
   "metadata": {
    "colab": {
     "base_uri": "https://localhost:8080/",
     "height": 612
    },
    "colab_type": "code",
    "id": "0h6lYZ0DVPx6",
    "outputId": "6594e7b0-aa96-4de9-da70-40cd56c946f8"
   },
   "outputs": [],
   "source": [
    "plt.figure(figsize=(10, 10))\n",
    "plt.plot(losses1, label='sgd')\n",
    "plt.plot(losses2, label='sgd+wd')\n",
    "plt.plot(losses3, label='sgd+wd+mom')\n",
    "plt.plot(losses4, label='sgd+wd+mom(ewma)')\n",
    "#plt.plot(losses5, label='sgd+wd+mom(dewma)')\n",
    "plt.plot(losses6, label='adam')\n",
    "plt.plot(losses7, label='lamb')\n",
    "plt.legend()"
   ]
  },
  {
   "cell_type": "markdown",
   "metadata": {
    "colab_type": "text",
    "id": "ylRtAYbsdQ0h"
   },
   "source": [
    "## Animation"
   ]
  },
  {
   "cell_type": "code",
   "execution_count": null,
   "metadata": {
    "colab": {},
    "colab_type": "code",
    "id": "blK35KcGd_9M"
   },
   "outputs": [],
   "source": [
    "# input for plotting\n",
    "\n",
    "\n",
    "fcts=[mse, msre, mae]; titles=['Mean Square Error loss', 'Mean Square Root Error loss', 'Mean Absolute Error loss']\n",
    "\n",
    "i = 1\n",
    "loss_curve = loss_func(*weights, loss=fcts[i])\n",
    "\n",
    "max_loss = 30# int(loss_curve.max())\n",
    "max_weights = max(weights[0].max(), weights[1].max())\n",
    "min_weights = min(weights[0].min(), weights[1].min())"
   ]
  },
  {
   "cell_type": "code",
   "execution_count": null,
   "metadata": {
    "colab": {},
    "colab_type": "code",
    "id": "wJkcxqaebEh2"
   },
   "outputs": [],
   "source": [
    "fig = plt.figure(figsize=(14, 8))\n",
    "gs = GridSpec(2, 2, width_ratios=[1, 2.5])\n",
    "\n",
    "# plot ground truth & model\n",
    "ax0 = fig.add_subplot(gs[0,0])\n",
    "ax0.scatter(X[:,0], y, c='orange', label='Ground truth')\n",
    "ax0.set_ylim(-1, 6)\n",
    "ax0.set_title('Ground truth & Model', fontsize=16)\n",
    "line0, = ax0.plot([], [], label='Model')\n",
    "ax0.legend(loc='lower right')\n",
    "\n",
    "# plot loss (output of the sampling)\n",
    "ax1 = fig.add_subplot(gs[:,1], projection='3d')\n",
    "ax1.set_title('Loss', fontsize=16, pad=20)\n",
    "ax1.plot_surface(*samples, loss_curve, cmap='viridis', alpha=0.8)\n",
    "# mark the optimial solution (i.e. target of the training)\n",
    "ax1.plot3D([W[0]], [W[1]], [0], c='r', marker='x', markersize=10,  label='Target', linewidth=0)\n",
    "line1, = ax1.plot3D([], [], [], c='r', marker='o', alpha=0.4, label='loss')\n",
    "ax1.set_xlabel('w0'); ax1.set_ylabel('w1'); ax1.set_zlabel('Loss')\n",
    "ax1.view_init(50, 70)\n",
    "ax1.legend()\n",
    "\n",
    "\n",
    "# plot weights & loss (output of training)\n",
    "ax2 = fig.add_subplot(gs[1,0])\n",
    "ax2.set_title('Weights & Loss', fontsize=16)\n",
    "line2, = ax2.plot([],[], label='w0')\n",
    "line3, = ax2.plot([],[], label='w1')\n",
    "ax2.set_ylim(min_weights, max_weights)\n",
    "ax2.set_xlim(0, epochs)\n",
    "ax2.set_xlabel('epochs')\n",
    "ax2.set_ylabel('weights')\n",
    "ax3 = ax2.twinx()\n",
    "line4, = ax3.plot([],[], label='loss', c='r')\n",
    "ax3.set_ylabel('loss')\n",
    "ax3.set_ybound(0, max_loss)\n",
    "\n",
    "ax2.legend((line2, line3, line4), ('w0', 'w1', 'loss'), loc='center right')\n",
    "\n",
    "title = fig.suptitle(f'lr: {lr} - Epoch: 0/{epochs}', fontsize=22)\n",
    "fig.tight_layout()\n",
    "fig.subplots_adjust(top=0.85)\n",
    "plt.close()\n",
    "\n",
    "\n",
    "def animate(i):   \n",
    "    line0.set_data(X[:,0].numpy(), (X@wgts[i]).numpy())\n",
    "    line1.set_data(wgts[:i+1,0].numpy(), wgts[:i+1,1].numpy())\n",
    "    line1.set_3d_properties(losses[:i+1])\n",
    "    steps = np.arange(i+1)\n",
    "    line2.set_data(steps, wgts[:i+1, 0].numpy())\n",
    "    line3.set_data(steps, wgts[:i+1, 1].numpy())\n",
    "    line4.set_data(steps, losses[:i+1])\n",
    "    title.set_text(f'lr: {lr} - Epoch: {i+1}/{epochs}')\n",
    "    return line0, line1, line2, line3, line4, title"
   ]
  },
  {
   "cell_type": "markdown",
   "metadata": {
    "colab_type": "text",
    "id": "9Bk_s-oP3S1p"
   },
   "source": [
    "### SGD + Weight Decay + Momentum"
   ]
  },
  {
   "cell_type": "code",
   "execution_count": null,
   "metadata": {
    "colab": {
     "base_uri": "https://localhost:8080/",
     "height": 67
    },
    "colab_type": "code",
    "id": "cpfH3TUF3SZ_",
    "outputId": "22d37083-44cd-4220-a6dd-8bf155a0e28e"
   },
   "outputs": [],
   "source": [
    "wgts = wgts3\n",
    "losses = np.array(losses3)\n",
    "\n",
    "max_weights = max(wgts[:, 0].max(), wgts[:, 1].max())\n",
    "min_weights = min(wgts[:, 0].min(), wgts[:, 1].min())\n",
    "\n",
    "print(f'Max loss is {max_loss}, Max weights {max_weights} Min weights={min_weights}')\n",
    "print(f'The solution for wights should be {W}')\n",
    "print(f'Weights and losses from training: {wgts.shape}, {losses.shape}')"
   ]
  },
  {
   "cell_type": "code",
   "execution_count": null,
   "metadata": {
    "colab": {
     "base_uri": "https://localhost:8080/",
     "height": 597
    },
    "colab_type": "code",
    "id": "9kt3oyoq3ol7",
    "outputId": "d56c3bba-7825-485d-c724-4e810a55f283"
   },
   "outputs": [],
   "source": [
    "animation.FuncAnimation(fig, animate, range(epochs), interval=40)"
   ]
  },
  {
   "cell_type": "markdown",
   "metadata": {
    "colab_type": "text",
    "id": "diAMpIANwdC4"
   },
   "source": [
    "### LAMB"
   ]
  },
  {
   "cell_type": "code",
   "execution_count": null,
   "metadata": {
    "colab": {
     "base_uri": "https://localhost:8080/",
     "height": 67
    },
    "colab_type": "code",
    "id": "GVNvlaRnkUSs",
    "outputId": "33b7fadb-62c9-4003-deef-bd96dfbf8b25"
   },
   "outputs": [],
   "source": [
    "wgts = wgts7\n",
    "losses = np.array(losses7)\n",
    "max_loss = max(max_loss, losses.max())\n",
    "\n",
    "max_weights = max(wgts[0].max(), wgts[1].max())\n",
    "min_weights = min(wgts[0].min(), wgts[1].min())\n",
    "\n",
    "\n",
    "print(f'Max loss is {max_loss}, Max weights {max_weights} Min weights={min_weights}')\n",
    "print(f'The solution for wights should be {W}')\n",
    "print(f'Weights and losses from training: {wgts.shape}, {losses.shape}')"
   ]
  },
  {
   "cell_type": "code",
   "execution_count": null,
   "metadata": {
    "colab": {
     "base_uri": "https://localhost:8080/",
     "height": 597
    },
    "colab_type": "code",
    "id": "j4fHJc-MtBB_",
    "outputId": "99b17f8b-9faf-41c9-e21c-ce199303a5f7"
   },
   "outputs": [],
   "source": [
    "animation.FuncAnimation(fig, animate, range(epochs), interval=40)"
   ]
  },
  {
   "cell_type": "code",
   "execution_count": null,
   "metadata": {
    "colab": {},
    "colab_type": "code",
    "id": "wYCw0Arumh10"
   },
   "outputs": [],
   "source": []
  }
 ],
 "metadata": {
  "accelerator": "GPU",
  "colab": {
   "collapsed_sections": [],
   "name": "Optimizers in Action.ipynb",
   "provenance": [],
   "version": "0.3.2"
  },
  "kernelspec": {
   "display_name": "Python 3 (ipykernel)",
   "language": "python",
   "name": "python3"
  },
  "language_info": {
   "codemirror_mode": {
    "name": "ipython",
    "version": 3
   },
   "file_extension": ".py",
   "mimetype": "text/x-python",
   "name": "python",
   "nbconvert_exporter": "python",
   "pygments_lexer": "ipython3",
   "version": "3.8.8"
  }
 },
 "nbformat": 4,
 "nbformat_minor": 1
}
