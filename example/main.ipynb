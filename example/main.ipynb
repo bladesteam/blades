{
 "cells": [
  {
   "cell_type": "code",
   "execution_count": 1,
   "id": "64db677c",
   "metadata": {},
   "outputs": [],
   "source": [
    "import numpy as np\n",
    "import pandas as pd\n",
    "import matplotlib.pyplot as plt\n",
    "import os\n",
    "import pickle\n",
    "import torch\n",
    "import copy\n",
    "from scipy.stats import skew\n",
    "import scipy.stats as st\n",
    "from sklearn.datasets import make_blobs\n",
    "from algorithms import auto_gm,geometric_median, Client, l2dist, l2norm\n",
    "plt.rcParams[\"savefig.format\"] = 'pdf'\n",
    "plt.rcParams['axes.linewidth'] = 1.5 #set the value globally\n",
    "# plt.rcParams[\"font.weight\"] = \"bold\"\n",
    "plt.rcParams[\"font.size\"] = 8\n",
    "# plt.rcParams[\"axes.labelweight\"] = \"bold\"\n",
    "from scipy import spatial\n",
    "from sklearn.cluster import AgglomerativeClustering\n",
    "from sklearn.decomposition import PCA"
   ]
  },
  {
   "cell_type": "code",
   "execution_count": 5,
   "id": "58675cdf",
   "metadata": {},
   "outputs": [
    {
     "data": {
      "image/png": "[encoded data removed]",
      "text/plain": [
       "<Figure size 360x360 with 1 Axes>"
      ]
     },
     "metadata": {
      "needs_background": "light"
     },
     "output_type": "display_data"
    }
   ],
   "source": [
    "fig, ax = plt.subplots(1, 1, figsize=(5, 5))\n",
    "\n",
    "x = np.array([\n",
    "    [1.0, 2.0],\n",
    "#     [2.0, 0.75],\n",
    "#     [2.0, -0.75],\n",
    "    [1.0, -2], \n",
    "    [-0.2, 0.0]\n",
    "    ])\n",
    "for d in x:\n",
    "    ax.arrow(x=0, y=0, dx=d[0], dy=d[1], width=0.001, color=\"k\", \n",
    "             head_width=0.05, head_length=0.1, overhang=0)\n"
   ]
  },
  {
   "cell_type": "code",
   "execution_count": null,
   "id": "a0490150",
   "metadata": {},
   "outputs": [],
   "source": []
  }
 ],
 "metadata": {
  "kernelspec": {
   "display_name": "Python 3 (ipykernel)",
   "language": "python",
   "name": "python3"
  },
  "language_info": {
   "codemirror_mode": {
    "name": "ipython",
    "version": 3
   },
   "file_extension": ".py",
   "mimetype": "text/x-python",
   "name": "python",
   "nbconvert_exporter": "python",
   "pygments_lexer": "ipython3",
   "version": "3.8.8"
  }
 },
 "nbformat": 4,
 "nbformat_minor": 5
}