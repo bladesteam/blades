{
 "cells": [
  {
   "cell_type": "code",
   "execution_count": 1,
   "id": "6b8402ce",
   "metadata": {},
   "outputs": [
    {
     "name": "stdout",
     "output_type": "stream",
     "text": [
      "Downloading http://yann.lecun.com/exdb/mnist/train-images-idx3-ubyte.gz\n",
      "Downloading http://yann.lecun.com/exdb/mnist/train-images-idx3-ubyte.gz to ./data/MNIST/raw/train-images-idx3-ubyte.gz\n"
     ]
    },
    {
     "data": {
      "application/vnd.jupyter.widget-view+json": {
       "model_id": "c87dc940627440eebf6fc5efcddc3b67",
       "version_major": 2,
       "version_minor": 0
      },
      "text/plain": [
       "  0%|          | 0/9912422 [00:00<?, ?it/s]"
      ]
     },
     "metadata": {},
     "output_type": "display_data"
    },
    {
     "name": "stdout",
     "output_type": "stream",
     "text": [
      "Extracting ./data/MNIST/raw/train-images-idx3-ubyte.gz to ./data/MNIST/raw\n",
      "\n",
      "Downloading http://yann.lecun.com/exdb/mnist/train-labels-idx1-ubyte.gz\n",
      "Downloading http://yann.lecun.com/exdb/mnist/train-labels-idx1-ubyte.gz to ./data/MNIST/raw/train-labels-idx1-ubyte.gz\n"
     ]
    },
    {
     "data": {
      "application/vnd.jupyter.widget-view+json": {
       "model_id": "b3d37ea16d824fc29bde6330c9b34e63",
       "version_major": 2,
       "version_minor": 0
      },
      "text/plain": [
       "  0%|          | 0/28881 [00:00<?, ?it/s]"
      ]
     },
     "metadata": {},
     "output_type": "display_data"
    },
    {
     "name": "stdout",
     "output_type": "stream",
     "text": [
      "Extracting ./data/MNIST/raw/train-labels-idx1-ubyte.gz to ./data/MNIST/raw\n",
      "\n",
      "Downloading http://yann.lecun.com/exdb/mnist/t10k-images-idx3-ubyte.gz\n",
      "Downloading http://yann.lecun.com/exdb/mnist/t10k-images-idx3-ubyte.gz to ./data/MNIST/raw/t10k-images-idx3-ubyte.gz\n"
     ]
    },
    {
     "data": {
      "application/vnd.jupyter.widget-view+json": {
       "model_id": "1d04c790fdbf4c25b42159f7e4933685",
       "version_major": 2,
       "version_minor": 0
      },
      "text/plain": [
       "  0%|          | 0/1648877 [00:00<?, ?it/s]"
      ]
     },
     "metadata": {},
     "output_type": "display_data"
    },
    {
     "name": "stdout",
     "output_type": "stream",
     "text": [
      "Extracting ./data/MNIST/raw/t10k-images-idx3-ubyte.gz to ./data/MNIST/raw\n",
      "\n",
      "Downloading http://yann.lecun.com/exdb/mnist/t10k-labels-idx1-ubyte.gz\n",
      "Downloading http://yann.lecun.com/exdb/mnist/t10k-labels-idx1-ubyte.gz to ./data/MNIST/raw/t10k-labels-idx1-ubyte.gz\n"
     ]
    },
    {
     "data": {
      "application/vnd.jupyter.widget-view+json": {
       "model_id": "61ef5099c2554d86bebabc3224468d75",
       "version_major": 2,
       "version_minor": 0
      },
      "text/plain": [
       "  0%|          | 0/4542 [00:00<?, ?it/s]"
      ]
     },
     "metadata": {},
     "output_type": "display_data"
    },
    {
     "name": "stdout",
     "output_type": "stream",
     "text": [
      "Extracting ./data/MNIST/raw/t10k-labels-idx1-ubyte.gz to ./data/MNIST/raw\n",
      "\n"
     ]
    },
    {
     "name": "stderr",
     "output_type": "stream",
     "text": [
      "2022-06-12 19:55:22,228\tINFO services.py:1456 -- View the Ray dashboard at \u001b[1m\u001b[32mhttp://127.0.0.1:8265\u001b[39m\u001b[22m\n"
     ]
    },
    {
     "name": "stdout",
     "output_type": "stream",
     "text": [
      "Logging files to ./outputs\n"
     ]
    },
    {
     "name": "stderr",
     "output_type": "stream",
     "text": [
      "<blades.simulator.Simulator object at 0x7fee5f87a310>\n",
      "\u001b[2m\u001b[33m(raylet)\u001b[0m /Users/sheli564/opt/miniconda3/lib/python3.9/site-packages/ray/dashboard/modules/reporter/reporter_agent.py:40: UserWarning: `gpustat` package is not installed. GPU monitoring is not available. To have full functionality of the dashboard please install `pip install ray[default]`.)\n",
      "\u001b[2m\u001b[33m(raylet)\u001b[0m   warnings.warn(\n",
      "Train global round 1\n",
      "Test global round 1, loss: 2.3009910766601562, top1: 11.77\n",
      "Train global round 2\n"
     ]
    },
    {
     "name": "stdout",
     "output_type": "stream",
     "text": [
      "E=1; Learning rate = 1; Time cost = 8.630404949188232\n"
     ]
    },
    {
     "name": "stderr",
     "output_type": "stream",
     "text": [
      "Test global round 2, loss: 2.259883163642883, top1: 21.99\n",
      "Train global round 3\n"
     ]
    },
    {
     "name": "stdout",
     "output_type": "stream",
     "text": [
      "E=2; Learning rate = 1; Time cost = 9.19483995437622\n"
     ]
    },
    {
     "name": "stderr",
     "output_type": "stream",
     "text": [
      "Test global round 3, loss: 2.166999856185913, top1: 40.24\n",
      "Train global round 4\n"
     ]
    },
    {
     "name": "stdout",
     "output_type": "stream",
     "text": [
      "E=3; Learning rate = 1; Time cost = 9.969485759735107\n"
     ]
    },
    {
     "name": "stderr",
     "output_type": "stream",
     "text": [
      "Test global round 4, loss: 2.0002221655845642, top1: 49.7\n",
      "Train global round 5\n"
     ]
    },
    {
     "name": "stdout",
     "output_type": "stream",
     "text": [
      "E=4; Learning rate = 1; Time cost = 10.74704098701477\n"
     ]
    },
    {
     "name": "stderr",
     "output_type": "stream",
     "text": [
      "Test global round 5, loss: 2.0366470982551577, top1: 31.79\n",
      "Train global round 6\n"
     ]
    },
    {
     "name": "stdout",
     "output_type": "stream",
     "text": [
      "E=5; Learning rate = 1; Time cost = 11.386714935302734\n"
     ]
    },
    {
     "name": "stderr",
     "output_type": "stream",
     "text": [
      "Test global round 6, loss: 1.763825508594513, top1: 41.21\n",
      "Train global round 7\n"
     ]
    },
    {
     "name": "stdout",
     "output_type": "stream",
     "text": [
      "E=6; Learning rate = 1; Time cost = 12.075989961624146\n"
     ]
    },
    {
     "name": "stderr",
     "output_type": "stream",
     "text": [
      "Test global round 7, loss: 1.5138955141067505, top1: 51.64\n",
      "Train global round 8\n"
     ]
    },
    {
     "name": "stdout",
     "output_type": "stream",
     "text": [
      "E=7; Learning rate = 1; Time cost = 12.769580125808716\n"
     ]
    },
    {
     "name": "stderr",
     "output_type": "stream",
     "text": [
      "Test global round 8, loss: 1.5595623726844787, top1: 44.0\n",
      "Train global round 9\n"
     ]
    },
    {
     "name": "stdout",
     "output_type": "stream",
     "text": [
      "E=8; Learning rate = 1; Time cost = 13.502284049987793\n"
     ]
    },
    {
     "name": "stderr",
     "output_type": "stream",
     "text": [
      "Test global round 9, loss: 1.868042222595215, top1: 29.76\n",
      "Train global round 10\n"
     ]
    },
    {
     "name": "stdout",
     "output_type": "stream",
     "text": [
      "E=9; Learning rate = 1; Time cost = 14.121247053146362\n"
     ]
    },
    {
     "name": "stderr",
     "output_type": "stream",
     "text": [
      "Test global round 10, loss: 1.7470001976966858, top1: 51.38\n"
     ]
    },
    {
     "name": "stdout",
     "output_type": "stream",
     "text": [
      "E=10; Learning rate = 1; Time cost = 14.790166139602661\n"
     ]
    },
    {
     "data": {
      "text/plain": [
       "[8.506266832351685,\n",
       " 0.5511810779571533,\n",
       " 0.7533252239227295,\n",
       " 0.766552209854126,\n",
       " 0.6230902671813965,\n",
       " 0.6770539283752441,\n",
       " 0.6712491512298584,\n",
       " 0.7207438945770264,\n",
       " 0.6089110374450684,\n",
       " 0.6549999713897705]"
      ]
     },
     "execution_count": 1,
     "metadata": {},
     "output_type": "execute_result"
    }
   ],
   "source": [
    "import ray\n",
    "\n",
    "from blades.datasets import MNIST\n",
    "from blades.models.mnist import DNN\n",
    "from blades.simulator import Simulator\n",
    "\n",
    "mnist = MNIST(data_root=\"./data\", train_bs=32, num_clients=10)  # built-in federated MNIST dataset\n",
    "\n",
    "# configuration parameters\n",
    "conf_params = {\n",
    "    \"dataset\": mnist,\n",
    "    \"aggregator\": \"trimmedmean\",  # aggregation\n",
    "    \"num_byzantine\": 3,  # number of Byzantine input\n",
    "    \"attack\": \"alie\",  # attack strategy\n",
    "    \"attack_param\": {\"num_clients\": 10,  # attacker parameters\n",
    "                    \"num_byzantine\": 3},\n",
    "    \"num_actors\": 4,  # number of training actors\n",
    "    \"seed\": 1,  # reproducibility\n",
    "}\n",
    "\n",
    "ray.init(num_gpus=0)\n",
    "simulator = Simulator(**conf_params)\n",
    "\n",
    "model = DNN()\n",
    "# runtime parameters\n",
    "run_params = {\n",
    "    \"model\": model,  # global model\n",
    "    \"server_optimizer\": 'SGD',  # ,server_opt  # server optimizer\n",
    "    \"client_optimizer\": 'SGD',  # client optimizer\n",
    "    \"loss\": \"crossentropy\",  # loss function\n",
    "    \"global_rounds\": 10,  # number of global rounds\n",
    "    \"local_steps\": 2,  # number of steps per round\n",
    "    \"server_lr\": 1,\n",
    "    \"client_lr\": 0.1,  # learning rate\n",
    "}\n",
    "simulator.run(**run_params)\n"
   ]
  },
  {
   "cell_type": "code",
   "execution_count": null,
   "id": "f8b0b8e1",
   "metadata": {},
   "outputs": [],
   "source": []
  }
 ],
 "metadata": {
  "kernelspec": {
   "display_name": "Python 3 (ipykernel)",
   "language": "python",
   "name": "python3"
  },
  "language_info": {
   "codemirror_mode": {
    "name": "ipython",
    "version": 3
   },
   "file_extension": ".py",
   "mimetype": "text/x-python",
   "name": "python",
   "nbconvert_exporter": "python",
   "pygments_lexer": "ipython3",
   "version": "3.9.7"
  }
 },
 "nbformat": 4,
 "nbformat_minor": 5
}
